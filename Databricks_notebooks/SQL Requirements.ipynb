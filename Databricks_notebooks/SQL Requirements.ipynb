{
 "cells": [
  {
   "cell_type": "code",
   "execution_count": 0,
   "metadata": {
    "application/vnd.databricks.v1+cell": {
     "cellMetadata": {
      "byteLimit": 2048000,
      "rowLimit": 10000
     },
     "inputWidgets": {},
     "nuid": "4d220f73-ba8b-46d4-a0a9-ee4bb85277d0",
     "showTitle": false,
     "tableResultSettingsMap": {},
     "title": ""
    }
   },
   "outputs": [],
   "source": [
    "%python\n",
    "spark.conf.set(\"fs.azure.account.key.cs0st0rage.dfs.core.windows.net\", dbutils.secrets.get(scope = 'az_cs_scope', key= 'acc-key'))"
   ]
  },
  {
   "cell_type": "code",
   "execution_count": 0,
   "metadata": {
    "application/vnd.databricks.v1+cell": {
     "cellMetadata": {
      "byteLimit": 2048000,
      "rowLimit": 10000
     },
     "inputWidgets": {},
     "nuid": "a8c6aaa4-a525-41e1-a448-a22b46cc83ad",
     "showTitle": false,
     "tableResultSettingsMap": {},
     "title": ""
    }
   },
   "outputs": [],
   "source": [
    "CREATE OR REPLACE TABLE gold\n",
    "AS SELECT * FROM DELTA.`abfss://gold@cs0st0rage.dfs.core.windows.net/` "
   ]
  },
  {
   "cell_type": "markdown",
   "metadata": {
    "application/vnd.databricks.v1+cell": {
     "cellMetadata": {
      "byteLimit": 2048000,
      "rowLimit": 10000
     },
     "inputWidgets": {},
     "nuid": "89f8093a-f7a4-48fa-916a-d1f69edf1ea9",
     "showTitle": false,
     "tableResultSettingsMap": {},
     "title": ""
    }
   },
   "source": [
    "1. List the names of tables used."
   ]
  },
  {
   "cell_type": "code",
   "execution_count": 0,
   "metadata": {
    "application/vnd.databricks.v1+cell": {
     "cellMetadata": {
      "byteLimit": 2048000,
      "rowLimit": 10000
     },
     "inputWidgets": {},
     "nuid": "4caba675-25f2-4d55-b7b9-108dacd9cb33",
     "showTitle": false,
     "tableResultSettingsMap": {},
     "title": ""
    }
   },
   "outputs": [],
   "source": [
    "SHOW TABLES;"
   ]
  },
  {
   "cell_type": "markdown",
   "metadata": {
    "application/vnd.databricks.v1+cell": {
     "cellMetadata": {
      "byteLimit": 2048000,
      "rowLimit": 10000
     },
     "inputWidgets": {},
     "nuid": "50eba07d-a6d7-4351-99cf-b670596be41b",
     "showTitle": false,
     "tableResultSettingsMap": {},
     "title": ""
    }
   },
   "source": [
    "2. Capture the SQL queries/ PySpark code snippets used for data cleansing."
   ]
  },
  {
   "cell_type": "markdown",
   "metadata": {
    "application/vnd.databricks.v1+cell": {
     "cellMetadata": {
      "byteLimit": 2048000,
      "rowLimit": 10000
     },
     "inputWidgets": {},
     "nuid": "42d41d44-838c-451f-a995-5f104ba0cb8d",
     "showTitle": false,
     "tableResultSettingsMap": {},
     "title": ""
    }
   },
   "source": [
    "3. Capture the SQL queries/ PySpark code snippets used for data transformations."
   ]
  },
  {
   "cell_type": "markdown",
   "metadata": {
    "application/vnd.databricks.v1+cell": {
     "cellMetadata": {
      "byteLimit": 2048000,
      "rowLimit": 10000
     },
     "inputWidgets": {},
     "nuid": "9a6654d2-28b6-483c-9db9-296bff0a7c97",
     "showTitle": false,
     "tableResultSettingsMap": {},
     "title": ""
    }
   },
   "source": [
    "4. Create a master table named t_rating_desc as follows:"
   ]
  },
  {
   "cell_type": "code",
   "execution_count": 0,
   "metadata": {
    "application/vnd.databricks.v1+cell": {
     "cellMetadata": {
      "byteLimit": 2048000,
      "rowLimit": 10000
     },
     "inputWidgets": {},
     "nuid": "738743a8-f12d-4149-8c0c-603632604f04",
     "showTitle": false,
     "tableResultSettingsMap": {},
     "title": ""
    },
    "jupyter": {
     "outputs_hidden": true
    }
   },
   "outputs": [],
   "source": [
    "CREATE OR REPLACE TABLE t_rating_desc AS\n",
    "SELECT *\n",
    "FROM VALUES\n",
    "    (0, 'No Rating'),\n",
    "    (1, 'Poor'),\n",
    "    (2, 'Average'),\n",
    "    (3, 'Good'),\n",
    "    (4, 'Excellent'),\n",
    "    (5, 'Must Try') AS t(RATING, RATING_DESC);"
   ]
  },
  {
   "cell_type": "markdown",
   "metadata": {
    "application/vnd.databricks.v1+cell": {
     "cellMetadata": {
      "byteLimit": 2048000,
      "rowLimit": 10000
     },
     "inputWidgets": {},
     "nuid": "a29e0108-52ef-4f6f-aeac-ee6eb1ef830a",
     "showTitle": false,
     "tableResultSettingsMap": {},
     "title": ""
    }
   },
   "source": [
    "5. Write a query that retrieves Restaurant Name, Rating and the corresponding Rating Description. Use the next whole number to get rating description. For the restaurants with blank rating, display the one corresponding to 0. \n"
   ]
  },
  {
   "cell_type": "code",
   "execution_count": 0,
   "metadata": {
    "application/vnd.databricks.v1+cell": {
     "cellMetadata": {
      "byteLimit": 2048000,
      "rowLimit": 10000
     },
     "inputWidgets": {},
     "nuid": "ae4f2e41-1e56-4437-aa12-49d170cfc46d",
     "showTitle": false,
     "tableResultSettingsMap": {},
     "title": ""
    }
   },
   "outputs": [],
   "source": [
    "SELECT Restaurant_Name, CEIL(g.Rating) AS Rating, Rating_desc FROM gold g,t_rating_desc t WhERE t.rating = g.rating;"
   ]
  },
  {
   "cell_type": "markdown",
   "metadata": {
    "application/vnd.databricks.v1+cell": {
     "cellMetadata": {
      "byteLimit": 2048000,
      "rowLimit": 10000
     },
     "inputWidgets": {},
     "nuid": "12e16e89-4f24-485d-9daa-d091c125026b",
     "showTitle": false,
     "tableResultSettingsMap": {},
     "title": ""
    }
   },
   "source": [
    "6. Write a query to get Restaurant Name, City and Rating for Domino's Pizza so that the highest rated is displayed on top. If there are 2 outlets with the same rating, the first on the list should be based on the city in alphabetical order."
   ]
  },
  {
   "cell_type": "code",
   "execution_count": 0,
   "metadata": {
    "application/vnd.databricks.v1+cell": {
     "cellMetadata": {
      "byteLimit": 2048000,
      "rowLimit": 10000
     },
     "inputWidgets": {},
     "nuid": "47225ea7-d878-4b97-a78a-06f5ed7a0f17",
     "showTitle": false,
     "tableResultSettingsMap": {},
     "title": ""
    }
   },
   "outputs": [],
   "source": [
    "SELECT Restaurant_Name, City, Rating FROM gold WHERE Restaurant_Name = \"Domino's Pizza\" ORDER BY Rating DESC, City ASC"
   ]
  },
  {
   "cell_type": "markdown",
   "metadata": {
    "application/vnd.databricks.v1+cell": {
     "cellMetadata": {
      "byteLimit": 2048000,
      "rowLimit": 10000
     },
     "inputWidgets": {},
     "nuid": "6ef96f87-18b2-42ed-8737-2f0e40e40f94",
     "showTitle": false,
     "tableResultSettingsMap": {},
     "title": ""
    }
   },
   "source": [
    "7. Find the number of restaurants with rating above 4 for cusine 'North Indian'."
   ]
  },
  {
   "cell_type": "code",
   "execution_count": 0,
   "metadata": {
    "application/vnd.databricks.v1+cell": {
     "cellMetadata": {
      "byteLimit": 2048000,
      "rowLimit": 10000
     },
     "inputWidgets": {},
     "nuid": "b729671a-c5f4-499c-9a19-cd26a7d279cf",
     "showTitle": false,
     "tableResultSettingsMap": {},
     "title": ""
    }
   },
   "outputs": [],
   "source": [
    "SELECT Cuisine, count(Cuisine) AS Count FROM gold WHERE Cuisine = 'North Indian' and rating > 4 group by Cuisine"
   ]
  },
  {
   "cell_type": "markdown",
   "metadata": {
    "application/vnd.databricks.v1+cell": {
     "cellMetadata": {
      "byteLimit": 2048000,
      "rowLimit": 10000
     },
     "inputWidgets": {},
     "nuid": "55d38550-5060-4072-98fd-f606fddc90df",
     "showTitle": false,
     "tableResultSettingsMap": {},
     "title": ""
    }
   },
   "source": [
    "8. Find the number of restaurants with a rating below the 3.\n"
   ]
  },
  {
   "cell_type": "code",
   "execution_count": 0,
   "metadata": {
    "application/vnd.databricks.v1+cell": {
     "cellMetadata": {
      "byteLimit": 2048000,
      "rowLimit": 10000
     },
     "inputWidgets": {},
     "nuid": "0dbff0b1-1e80-46ab-afc1-de9b1567e459",
     "showTitle": false,
     "tableResultSettingsMap": {},
     "title": ""
    }
   },
   "outputs": [],
   "source": [
    "SELECT count(*) AS Rest_Count FROM gold WHERE rating < 3"
   ]
  },
  {
   "cell_type": "markdown",
   "metadata": {
    "application/vnd.databricks.v1+cell": {
     "cellMetadata": {
      "byteLimit": 2048000,
      "rowLimit": 10000
     },
     "inputWidgets": {},
     "nuid": "8154a9eb-6fe1-4112-96b0-8707d0adc84c",
     "showTitle": false,
     "tableResultSettingsMap": {},
     "title": ""
    }
   },
   "source": [
    "9. Find the number of people who have rated restaurants with cusine 'Fast Food,American'"
   ]
  },
  {
   "cell_type": "code",
   "execution_count": 0,
   "metadata": {
    "application/vnd.databricks.v1+cell": {
     "cellMetadata": {
      "byteLimit": 2048000,
      "rowLimit": 10000
     },
     "inputWidgets": {},
     "nuid": "b2e12268-50c8-4df2-b5dc-f6091b9852f5",
     "showTitle": false,
     "tableResultSettingsMap": {},
     "title": ""
    }
   },
   "outputs": [],
   "source": [
    "SELECT concat(sum(Rating_count),'+ Ratings') as Rating_Count FROM gold where Cuisine = \"Fast Food,American\""
   ]
  },
  {
   "cell_type": "markdown",
   "metadata": {
    "application/vnd.databricks.v1+cell": {
     "cellMetadata": {
      "byteLimit": 2048000,
      "rowLimit": 10000
     },
     "inputWidgets": {},
     "nuid": "7480d014-4694-47f1-a9cb-e13bb74c3f9d",
     "showTitle": false,
     "tableResultSettingsMap": {},
     "title": ""
    }
   },
   "source": [
    "10. Find the restaurant in LuluMall Kochi that has the highest number of people rated."
   ]
  },
  {
   "cell_type": "code",
   "execution_count": 0,
   "metadata": {
    "application/vnd.databricks.v1+cell": {
     "cellMetadata": {
      "byteLimit": 2048000,
      "rowLimit": 10000
     },
     "inputWidgets": {},
     "nuid": "93c0c36a-0670-42bb-860a-99ea6e9766a0",
     "showTitle": false,
     "tableResultSettingsMap": {},
     "title": ""
    }
   },
   "outputs": [],
   "source": [
    "SELECT Restaurant_Name, Address, Rating, Rating_count FROM gold WHERE lower(City) = 'lulu mall,kochi' ORDER BY Rating_Count DESC LIMIT 1"
   ]
  },
  {
   "cell_type": "markdown",
   "metadata": {
    "application/vnd.databricks.v1+cell": {
     "cellMetadata": {
      "byteLimit": 2048000,
      "rowLimit": 10000
     },
     "inputWidgets": {},
     "nuid": "ceded51c-36fc-44f1-b9ab-caa929064ba9",
     "showTitle": false,
     "tableResultSettingsMap": {},
     "title": ""
    }
   },
   "source": [
    "11. Identify the city with maximum number of restaurants."
   ]
  },
  {
   "cell_type": "code",
   "execution_count": 0,
   "metadata": {
    "application/vnd.databricks.v1+cell": {
     "cellMetadata": {
      "byteLimit": 2048000,
      "rowLimit": 10000
     },
     "inputWidgets": {},
     "nuid": "60d862e8-e554-4e26-909d-52cc8d0acfb5",
     "showTitle": false,
     "tableResultSettingsMap": {},
     "title": ""
    }
   },
   "outputs": [],
   "source": [
    "SELECT City, count(Restaurant_id) as No_of_Restaurants FROM gold GROUP BY City ORDER BY No_of_Restaurants DESC LIMIT 1"
   ]
  },
  {
   "cell_type": "markdown",
   "metadata": {
    "application/vnd.databricks.v1+cell": {
     "cellMetadata": {
      "byteLimit": 2048000,
      "rowLimit": 10000
     },
     "inputWidgets": {},
     "nuid": "3c6efc74-b640-4c87-bd77-2c88dfabecaa",
     "showTitle": false,
     "tableResultSettingsMap": {},
     "title": ""
    }
   },
   "source": [
    "12. Identify the number of Baskin Robbins outlets with a rating of 4.5 and above."
   ]
  },
  {
   "cell_type": "code",
   "execution_count": 0,
   "metadata": {
    "application/vnd.databricks.v1+cell": {
     "cellMetadata": {
      "byteLimit": 2048000,
      "rowLimit": 10000
     },
     "inputWidgets": {},
     "nuid": "144898c7-4765-4313-a142-a04024466ff9",
     "showTitle": false,
     "tableResultSettingsMap": {},
     "title": ""
    }
   },
   "outputs": [],
   "source": [
    "  SELECT Restaurant_Name, count(*) as Count FROM gold WHERE Restaurant_Name = 'Baskin Robbins' and Rating >= 4.5 GROUP BY Restaurant_Name"
   ]
  },
  {
   "cell_type": "markdown",
   "metadata": {
    "application/vnd.databricks.v1+cell": {
     "cellMetadata": {
      "byteLimit": 2048000,
      "rowLimit": 10000
     },
     "inputWidgets": {},
     "nuid": "887ff61a-08cf-41fd-96eb-256a865a75b6",
     "showTitle": false,
     "tableResultSettingsMap": {},
     "title": ""
    }
   },
   "source": [
    "13. Identify the restaurants that sell least expensive Ice cream yet with a rating of 4 and above in Bangalore."
   ]
  },
  {
   "cell_type": "code",
   "execution_count": 0,
   "metadata": {
    "application/vnd.databricks.v1+cell": {
     "cellMetadata": {
      "byteLimit": 2048000,
      "rowLimit": 10000
     },
     "inputWidgets": {},
     "nuid": "42111dd5-a2f8-4029-89ff-f6c3ff3bc54d",
     "showTitle": false,
     "tableResultSettingsMap": {},
     "title": ""
    }
   },
   "outputs": [],
   "source": [
    "SELECT Restaurant_Name, City, Rating, m.Category, m.Item_name, m.price\n",
    "FROM gold\n",
    "LATERAL VIEW EXPLODE(Menu_Items) exploded AS m\n",
    "WHERE Rating >= 4\n",
    "  AND LOWER(City) like '%bangalore%'\n",
    "  AND (\n",
    "      LOWER(m.category) = 'ice cream'\n",
    "      OR LOWER(m.category) = 'ice creams'\n",
    "      OR LOWER(m.category) LIKE 'ice cream cup%'\n",
    "  ) ORDER BY m.price;\n"
   ]
  },
  {
   "cell_type": "markdown",
   "metadata": {
    "application/vnd.databricks.v1+cell": {
     "cellMetadata": {
      "byteLimit": 2048000,
      "rowLimit": 10000
     },
     "inputWidgets": {},
     "nuid": "912750f2-7f74-42ec-8a4e-fa0eeac5c397",
     "showTitle": false,
     "tableResultSettingsMap": {},
     "title": ""
    }
   },
   "source": [
    "14. Find the top 10 cities as per the number of restaurants listed on Swiggy."
   ]
  },
  {
   "cell_type": "code",
   "execution_count": 0,
   "metadata": {
    "application/vnd.databricks.v1+cell": {
     "cellMetadata": {
      "byteLimit": 2048000,
      "rowLimit": 10000
     },
     "inputWidgets": {},
     "nuid": "b85560c2-2ab1-4dd2-9c28-57c4757ede63",
     "showTitle": false,
     "tableResultSettingsMap": {},
     "title": ""
    }
   },
   "outputs": [],
   "source": [
    "SELECT City, count(Restaurant_id) as No_of_Restaurants FROM gold GROUP BY City ORDER BY No_of_Restaurants DESC LIMIT 10"
   ]
  },
  {
   "cell_type": "markdown",
   "metadata": {
    "application/vnd.databricks.v1+cell": {
     "cellMetadata": {
      "byteLimit": 2048000,
      "rowLimit": 10000
     },
     "inputWidgets": {},
     "nuid": "377f5864-d603-4503-9e8d-b32634f3d2e7",
     "showTitle": false,
     "tableResultSettingsMap": {},
     "title": ""
    }
   },
   "source": [
    "15. Identify the cuisine that has the top rating in this dataset"
   ]
  },
  {
   "cell_type": "code",
   "execution_count": 0,
   "metadata": {
    "application/vnd.databricks.v1+cell": {
     "cellMetadata": {
      "byteLimit": 2048000,
      "rowLimit": 10000
     },
     "inputWidgets": {},
     "nuid": "8ecf2fc4-7343-498c-8c3f-b1843d0cff57",
     "showTitle": false,
     "tableResultSettingsMap": {},
     "title": ""
    }
   },
   "outputs": [],
   "source": [
    "SELECT Cuisine, Rating\n",
    "FROM (\n",
    "    SELECT Cuisine, \n",
    "           Rating,\n",
    "           RANK() OVER (ORDER BY Rating DESC) AS ranks\n",
    "    FROM gold\n",
    ") AS t\n",
    "WHERE ranks = 1;"
   ]
  },
  {
   "cell_type": "markdown",
   "metadata": {
    "application/vnd.databricks.v1+cell": {
     "cellMetadata": {
      "byteLimit": 2048000,
      "rowLimit": 10000
     },
     "inputWidgets": {},
     "nuid": "82e6c261-f086-4b23-a923-0a430d7f9fe7",
     "showTitle": false,
     "tableResultSettingsMap": {},
     "title": ""
    }
   },
   "source": [
    "16. What is the total number of restaurants listed in swiggy in the city Kannur with a rating count of 100+ ratings?"
   ]
  },
  {
   "cell_type": "code",
   "execution_count": 0,
   "metadata": {
    "application/vnd.databricks.v1+cell": {
     "cellMetadata": {
      "byteLimit": 2048000,
      "rowLimit": 10000
     },
     "inputWidgets": {},
     "nuid": "c40c8a38-05be-4e3e-b914-0ab56b8cbd06",
     "showTitle": false,
     "tableResultSettingsMap": {},
     "title": ""
    }
   },
   "outputs": [],
   "source": [
    "SELECT City, count(*) FROM gold WHERE City LIKE '%Kannur%' and Rating_count >= 100 GROUP BY City"
   ]
  },
  {
   "cell_type": "markdown",
   "metadata": {
    "application/vnd.databricks.v1+cell": {
     "cellMetadata": {
      "byteLimit": 2048000,
      "rowLimit": 10000
     },
     "inputWidgets": {},
     "nuid": "d7fd29f1-753a-4276-86ff-b7a945628f53",
     "showTitle": false,
     "tableResultSettingsMap": {},
     "title": ""
    }
   },
   "source": [
    "17. Identify the restaurants that serve more than 1 cuisine. Display the Restaurant Name and the Cuisine"
   ]
  },
  {
   "cell_type": "code",
   "execution_count": 0,
   "metadata": {
    "application/vnd.databricks.v1+cell": {
     "cellMetadata": {
      "byteLimit": 2048000,
      "rowLimit": 10000
     },
     "inputWidgets": {},
     "nuid": "8f398dcc-f9d3-4944-abef-8e3a644c4956",
     "showTitle": false,
     "tableResultSettingsMap": {},
     "title": ""
    }
   },
   "outputs": [],
   "source": [
    "SELECT Restaurant_name, Cuisine FROM gold WHERE Cuisine LIKE '%,%'"
   ]
  },
  {
   "cell_type": "markdown",
   "metadata": {
    "application/vnd.databricks.v1+cell": {
     "cellMetadata": {
      "byteLimit": 2048000,
      "rowLimit": 10000
     },
     "inputWidgets": {},
     "nuid": "1dfebce5-6e93-4ef1-9282-e79cbc9773c7",
     "showTitle": false,
     "tableResultSettingsMap": {},
     "title": ""
    }
   },
   "source": [
    "18. Write a query to list the restaurant names with the letter ‘d’ in the name and also the position of the letter d."
   ]
  },
  {
   "cell_type": "code",
   "execution_count": 0,
   "metadata": {
    "application/vnd.databricks.v1+cell": {
     "cellMetadata": {
      "byteLimit": 2048000,
      "rowLimit": 10000
     },
     "inputWidgets": {},
     "nuid": "bbf531ca-42ca-4847-a3f2-d6cdd0b1e84b",
     "showTitle": false,
     "tableResultSettingsMap": {},
     "title": ""
    }
   },
   "outputs": [],
   "source": [
    "SELECT Restaurant_Name, instr(lower(Restaurant_Name), 'd') AS position FROM gold WHERE lower(Restaurant_Name) LIKE '%d%'"
   ]
  },
  {
   "cell_type": "markdown",
   "metadata": {
    "application/vnd.databricks.v1+cell": {
     "cellMetadata": {
      "byteLimit": 2048000,
      "rowLimit": 10000
     },
     "inputWidgets": {},
     "nuid": "92d992f0-e8f7-4f7d-ab38-a58bc1f16fb6",
     "showTitle": false,
     "tableResultSettingsMap": {},
     "title": ""
    }
   },
   "source": [
    "19. Write a query to display the restaurants that have two or more ‘o’ in the name."
   ]
  },
  {
   "cell_type": "code",
   "execution_count": 0,
   "metadata": {
    "application/vnd.databricks.v1+cell": {
     "cellMetadata": {
      "byteLimit": 2048000,
      "rowLimit": 10000
     },
     "inputWidgets": {},
     "nuid": "9ba2c26a-05fe-4fcc-9b7e-af12a9d34d61",
     "showTitle": false,
     "tableResultSettingsMap": {},
     "title": ""
    }
   },
   "outputs": [],
   "source": [
    "SELECT Restaurant_Name FROM gold WHERE regexp_count(lower(Restaurant_Name), 'o') >= 2"
   ]
  },
  {
   "cell_type": "markdown",
   "metadata": {
    "application/vnd.databricks.v1+cell": {
     "cellMetadata": {
      "byteLimit": 2048000,
      "rowLimit": 10000
     },
     "inputWidgets": {},
     "nuid": "97add768-d7e6-4f60-ab89-558055edd80e",
     "showTitle": false,
     "tableResultSettingsMap": {},
     "title": ""
    }
   },
   "source": [
    "20. Write a query to show the restaurant name and cuisine as follows.\n",
    "- AB FOODS POINT\tBeverages | Pizzas\n",
    "- Janta Sweet House\tSweets | Bakery\n",
    "- theka coffee desi\tBeverages\n",
    "- Singh Hut\tFast Food | Indian\n"
   ]
  },
  {
   "cell_type": "code",
   "execution_count": 0,
   "metadata": {
    "application/vnd.databricks.v1+cell": {
     "cellMetadata": {
      "byteLimit": 2048000,
      "rowLimit": 10000
     },
     "inputWidgets": {},
     "nuid": "73426b6d-bb1c-4cd5-a70d-41a767fee489",
     "showTitle": false,
     "tableResultSettingsMap": {},
     "title": ""
    }
   },
   "outputs": [],
   "source": [
    "SELECT Restaurant_Name, replace(Cuisine, ',', ' | ' ) AS Cuisine FROM gold "
   ]
  },
  {
   "cell_type": "markdown",
   "metadata": {
    "application/vnd.databricks.v1+cell": {
     "cellMetadata": {
      "byteLimit": 2048000,
      "rowLimit": 10000
     },
     "inputWidgets": {},
     "nuid": "244a90b3-37a7-4f35-a8af-6840cd71a91f",
     "showTitle": false,
     "tableResultSettingsMap": {},
     "title": ""
    }
   },
   "source": [
    "21. Write a query to display the restaurant_name and total cost of restaurants that start with S. The total cost should be based on each city. The list should be sorted based on total cost (least total cost should be on top)"
   ]
  },
  {
   "cell_type": "code",
   "execution_count": 0,
   "metadata": {
    "application/vnd.databricks.v1+cell": {
     "cellMetadata": {
      "byteLimit": 2048000,
      "rowLimit": 10000
     },
     "inputWidgets": {},
     "nuid": "6f1d32cb-dc0f-40dc-9415-501db731461f",
     "showTitle": false,
     "tableResultSettingsMap": {},
     "title": ""
    }
   },
   "outputs": [],
   "source": [
    "WITH City_Cost AS (\n",
    "  SELECT \n",
    "    City, SUM(Cost) AS Total_Cost\n",
    "  FROM gold\n",
    "  WHERE \n",
    "    lower(Restaurant_Name) LIKE 's%' GROUP BY City\n",
    ")\n",
    "SELECT \n",
    "  g.Restaurant_Name, g.City, c.Total_Cost\n",
    "FROM gold g\n",
    "JOIN \n",
    "  City_Cost c ON g.City = c.City\n",
    "WHERE lower(g.Restaurant_Name) LIKE 's%' \n",
    "ORDER BY c.Total_Cost;\n"
   ]
  },
  {
   "cell_type": "markdown",
   "metadata": {
    "application/vnd.databricks.v1+cell": {
     "cellMetadata": {
      "byteLimit": 2048000,
      "rowLimit": 10000
     },
     "inputWidgets": {},
     "nuid": "d49caaa8-3838-47eb-bc2f-2af3226f4bee",
     "showTitle": false,
     "tableResultSettingsMap": {},
     "title": ""
    }
   },
   "source": [
    "22. Create a new table with the structure:\n",
    "\n",
    "RESTAURANT_NAME\tSTRING,\n",
    "LOCALITY\tSTRING,\n",
    "CITY\tSTRING,\n",
    "RATING\tDOUBLE,\n",
    "RATING_COUNT\tSTRING,\n",
    "\n",
    "Load the data as follows: \n",
    "Pull the records with city as Electronic City,Bangalore with a rating above 4 and rating count of at least 50+\n",
    "Split the value into Locality and City using code (Do not hardcode the values)."
   ]
  },
  {
   "cell_type": "code",
   "execution_count": 0,
   "metadata": {
    "application/vnd.databricks.v1+cell": {
     "cellMetadata": {
      "byteLimit": 2048000,
      "rowLimit": 10000
     },
     "inputWidgets": {},
     "nuid": "81ff4804-d860-43fb-b6cc-509f48bf934d",
     "showTitle": false,
     "tableResultSettingsMap": {},
     "title": ""
    }
   },
   "outputs": [],
   "source": [
    "CREATE TABLE IF NOT EXISTS filtered_electronic_city (\n",
    "    Restaurant_Name STRING,\n",
    "    Locality STRING,\n",
    "    City STRING,\n",
    "    Rating DOUBLE,\n",
    "    Rating_Count STRING\n",
    ");"
   ]
  },
  {
   "cell_type": "code",
   "execution_count": 0,
   "metadata": {
    "application/vnd.databricks.v1+cell": {
     "cellMetadata": {
      "byteLimit": 2048000,
      "rowLimit": 10000
     },
     "inputWidgets": {},
     "nuid": "87ec3975-1cc7-454d-818d-dc961c25dd1e",
     "showTitle": false,
     "tableResultSettingsMap": {},
     "title": ""
    }
   },
   "outputs": [],
   "source": [
    "INSERT INTO filtered_electronic_city\n",
    "SELECT \n",
    "    Restaurant_Name,\n",
    "    split(City, ',')[0] AS Locality, -- Extract Locality\n",
    "    split(City, ',')[1] AS City,     -- Extract City\n",
    "    Rating,\n",
    "    cast(Rating_Count as STRING)\n",
    "FROM \n",
    "    gold\n",
    "WHERE \n",
    "    lower(City) = 'electronic city,bangalore'\n",
    "    AND Rating > 4\n",
    "    AND Rating_Count >= 50;"
   ]
  },
  {
   "cell_type": "markdown",
   "metadata": {
    "application/vnd.databricks.v1+cell": {
     "cellMetadata": {
      "byteLimit": 2048000,
      "rowLimit": 10000
     },
     "inputWidgets": {},
     "nuid": "fc674734-6f59-44b0-a0fd-9f58028ef05d",
     "showTitle": false,
     "tableResultSettingsMap": {},
     "title": ""
    }
   },
   "source": [
    "23. Write a query to list the restaurant and city that serve a single cuisine."
   ]
  },
  {
   "cell_type": "code",
   "execution_count": 0,
   "metadata": {
    "application/vnd.databricks.v1+cell": {
     "cellMetadata": {
      "byteLimit": 2048000,
      "rowLimit": 10000
     },
     "inputWidgets": {},
     "nuid": "d66d1ee0-15b9-4cdb-a6b5-1533c0d8d9f3",
     "showTitle": false,
     "tableResultSettingsMap": {},
     "title": ""
    }
   },
   "outputs": [],
   "source": [
    "SELECT Restaurant_Name, City, Cuisine\n",
    "FROM gold\n",
    "WHERE Cuisine NOT LIKE '%,%'"
   ]
  },
  {
   "cell_type": "markdown",
   "metadata": {
    "application/vnd.databricks.v1+cell": {
     "cellMetadata": {
      "byteLimit": 2048000,
      "rowLimit": 10000
     },
     "inputWidgets": {},
     "nuid": "837ab27a-a7e6-461e-bba1-142a2e1f0f94",
     "showTitle": false,
     "tableResultSettingsMap": {},
     "title": ""
    }
   },
   "source": [
    "24. Identify restaurants with anything other than alphabets in the restaurant name. Display distinct values in the output."
   ]
  },
  {
   "cell_type": "code",
   "execution_count": 0,
   "metadata": {
    "application/vnd.databricks.v1+cell": {
     "cellMetadata": {
      "byteLimit": 2048000,
      "rowLimit": 10000
     },
     "inputWidgets": {},
     "nuid": "772441ce-3f73-4c7f-b36f-b683aa45b08c",
     "showTitle": false,
     "tableResultSettingsMap": {},
     "title": ""
    }
   },
   "outputs": [],
   "source": [
    "SELECT DISTINCT Restaurant_Name\n",
    "FROM gold\n",
    "WHERE Restaurant_Name REGEXP '[^A-Za-z ]';"
   ]
  },
  {
   "cell_type": "markdown",
   "metadata": {
    "application/vnd.databricks.v1+cell": {
     "cellMetadata": {
      "byteLimit": 2048000,
      "rowLimit": 10000
     },
     "inputWidgets": {},
     "nuid": "9fa46a4e-13d7-4639-93a4-cc5ae94f7e2b",
     "showTitle": false,
     "tableResultSettingsMap": {},
     "title": ""
    }
   },
   "source": [
    "25. Analyze the entire dataset and detail one interesting finding."
   ]
  },
  {
   "cell_type": "code",
   "execution_count": 0,
   "metadata": {
    "application/vnd.databricks.v1+cell": {
     "cellMetadata": {
      "byteLimit": 2048000,
      "rowLimit": 10000
     },
     "inputWidgets": {},
     "nuid": "6edf9e59-cd9d-4271-8fe3-aaf9707bf4e5",
     "showTitle": true,
     "tableResultSettingsMap": {},
     "title": "Cities with the Max No of Restaurants with Rating < 2.5"
    }
   },
   "outputs": [],
   "source": [
    "SELECT \n",
    "    CASE \n",
    "        WHEN City LIKE '%,%' THEN TRIM(SUBSTRING(City, CHARINDEX(',', City) + 1, LEN(City)))  -- Get second part after comma\n",
    "        ELSE City  -- If no comma, return the original city name\n",
    "    END AS City,\n",
    "    COUNT(Restaurant_Name) AS num_restaurants\n",
    "FROM gold\n",
    "WHERE Rating < 2.5\n",
    "GROUP BY \n",
    "    CASE \n",
    "        WHEN City LIKE '%,%' THEN TRIM(SUBSTRING(City, CHARINDEX(',', City) + 1, LEN(City)))  -- Extract second part\n",
    "        ELSE City  -- Return original city if no comma\n",
    "    END\n",
    "ORDER BY num_restaurants DESC\n",
    "LIMIT 10;\n",
    "\n"
   ]
  },
  {
   "cell_type": "code",
   "execution_count": 0,
   "metadata": {
    "application/vnd.databricks.v1+cell": {
     "cellMetadata": {
      "byteLimit": 2048000,
      "rowLimit": 10000
     },
     "inputWidgets": {},
     "nuid": "c4178731-3be9-4d7a-8ff0-782f07c0a20b",
     "showTitle": true,
     "tableResultSettingsMap": {},
     "title": "Cities with the Maximum Number of Restaurants"
    }
   },
   "outputs": [],
   "source": [
    "SELECT CASE \n",
    "        WHEN City LIKE '%,%' THEN TRIM(SUBSTRING(City, CHARINDEX(',', City) + 1, LEN(City)))  -- Get second part after comma\n",
    "        ELSE City  -- If no comma, return the original city name\n",
    "    END AS City, \n",
    "    COUNT(Restaurant_Name) AS num_restaurants\n",
    "FROM gold\n",
    "GROUP BY \n",
    "    CASE \n",
    "        WHEN City LIKE '%,%' THEN TRIM(SUBSTRING(City, CHARINDEX(',', City) + 1, LEN(City)))  -- Extract second part\n",
    "        ELSE City  -- Return original city if no comma\n",
    "    END\n",
    "ORDER BY num_restaurants DESC\n",
    "LIMIT 10;\n"
   ]
  },
  {
   "cell_type": "markdown",
   "metadata": {
    "application/vnd.databricks.v1+cell": {
     "cellMetadata": {
      "byteLimit": 2048000,
      "rowLimit": 10000
     },
     "inputWidgets": {},
     "nuid": "a7b58a27-38f6-4c59-92b8-45a4d2dcd59d",
     "showTitle": false,
     "tableResultSettingsMap": {},
     "title": ""
    }
   },
   "source": [
    "# Visualization"
   ]
  },
  {
   "cell_type": "code",
   "execution_count": 0,
   "metadata": {
    "application/vnd.databricks.v1+cell": {
     "cellMetadata": {
      "byteLimit": 2048000,
      "rowLimit": 10000
     },
     "inputWidgets": {},
     "nuid": "790f3377-a6ef-4ec5-a433-082cabe07f9b",
     "showTitle": false,
     "tableResultSettingsMap": {},
     "title": ""
    }
   },
   "outputs": [],
   "source": [
    "SELECT count(Restaurant_Id) FROM gold;"
   ]
  },
  {
   "cell_type": "code",
   "execution_count": 0,
   "metadata": {
    "application/vnd.databricks.v1+cell": {
     "cellMetadata": {
      "byteLimit": 2048000,
      "rowLimit": 10000
     },
     "inputWidgets": {},
     "nuid": "faabc2de-49e2-4430-8d1c-b76d21081a5f",
     "showTitle": false,
     "tableResultSettingsMap": {},
     "title": ""
    }
   },
   "outputs": [],
   "source": [
    "SELECT count(DISTINCT City) AS city_count FROM gold;"
   ]
  },
  {
   "cell_type": "code",
   "execution_count": 0,
   "metadata": {
    "application/vnd.databricks.v1+cell": {
     "cellMetadata": {
      "byteLimit": 2048000,
      "rowLimit": 10000
     },
     "inputWidgets": {},
     "nuid": "8ff75ac3-2bb0-4c01-b2df-b96b05cc0137",
     "showTitle": false,
     "tableResultSettingsMap": {},
     "title": ""
    }
   },
   "outputs": [],
   "source": [
    "SELECT COUNT(DISTINCT m.Item_name) AS item_count\n",
    "FROM gold\n",
    "LATERAL VIEW EXPLODE(Menu_Items) AS m;"
   ]
  },
  {
   "cell_type": "code",
   "execution_count": 0,
   "metadata": {
    "application/vnd.databricks.v1+cell": {
     "cellMetadata": {
      "byteLimit": 2048000,
      "rowLimit": 10000
     },
     "inputWidgets": {},
     "nuid": "28f548de-5bc0-4832-8c4c-6e29a7b75f88",
     "showTitle": false,
     "tableResultSettingsMap": {},
     "title": ""
    }
   },
   "outputs": [],
   "source": [
    "SELECT COUNT(DISTINCT c.cuisine) AS cuisine_count\n",
    "FROM (\n",
    "    SELECT EXPLODE(SPLIT(Cuisine, ',')) AS cuisine\n",
    "    FROM gold\n",
    ") AS c;\n"
   ]
  },
  {
   "cell_type": "code",
   "execution_count": 0,
   "metadata": {
    "application/vnd.databricks.v1+cell": {
     "cellMetadata": {
      "byteLimit": 2048000,
      "rowLimit": 10000
     },
     "inputWidgets": {},
     "nuid": "400b7b63-cd95-466b-996e-32fbdfb56f52",
     "showTitle": false,
     "tableResultSettingsMap": {},
     "title": ""
    }
   },
   "outputs": [],
   "source": [
    "SELECT CASE \n",
    "        WHEN City LIKE '%,%' THEN TRIM(SUBSTRING(City, CHARINDEX(',', City) + 1, LEN(City)))\n",
    "        ELSE City\n",
    "    END AS City, COUNT(*) AS high_rated_restaurant_count\n",
    "FROM gold\n",
    "WHERE Rating >= 4.5\n",
    "GROUP BY CASE \n",
    "        WHEN City LIKE '%,%' THEN TRIM(SUBSTRING(City, CHARINDEX(',', City) + 1, LEN(City)))\n",
    "        ELSE City\n",
    "    END\n",
    "ORDER BY high_rated_restaurant_count DESC\n",
    "LIMIT 3"
   ]
  },
  {
   "cell_type": "code",
   "execution_count": 0,
   "metadata": {
    "application/vnd.databricks.v1+cell": {
     "cellMetadata": {
      "byteLimit": 2048000,
      "rowLimit": 10000
     },
     "inputWidgets": {},
     "nuid": "9712a8d5-c2d4-4228-ad07-144213951ea5",
     "showTitle": false,
     "tableResultSettingsMap": {},
     "title": ""
    }
   },
   "outputs": [],
   "source": [
    "WITH city_counts AS (\n",
    "    SELECT \n",
    "        CASE \n",
    "            WHEN City LIKE '%,%' THEN TRIM(SUBSTRING(City, CHARINDEX(',', City) + 1, LEN(City)))\n",
    "            ELSE City\n",
    "        END AS City,\n",
    "        COUNT(*) AS restaurant_count\n",
    "    FROM gold\n",
    "    GROUP BY CASE \n",
    "                WHEN City LIKE '%,%' THEN TRIM(SUBSTRING(City, CHARINDEX(',', City) + 1, LEN(City)))\n",
    "                ELSE City\n",
    "             END\n",
    "),\n",
    "top_3_cities AS (\n",
    "    SELECT City, restaurant_count\n",
    "    FROM city_counts\n",
    "    ORDER BY restaurant_count DESC\n",
    "    LIMIT 5\n",
    "),\n",
    "others_count AS (\n",
    "    SELECT SUM(restaurant_count) AS other_restaurants_count\n",
    "    FROM city_counts\n",
    "    WHERE City NOT IN (SELECT City FROM top_3_cities)\n",
    ")\n",
    "\n",
    "SELECT \n",
    "    t.City,\n",
    "    t.restaurant_count\n",
    "FROM top_3_cities t\n",
    "UNION ALL\n",
    "SELECT \n",
    "    'Others' AS City,\n",
    "    o.other_restaurants_count AS restaurant_count\n",
    "FROM others_count o;\n"
   ]
  },
  {
   "cell_type": "code",
   "execution_count": 0,
   "metadata": {
    "application/vnd.databricks.v1+cell": {
     "cellMetadata": {
      "byteLimit": 2048000,
      "rowLimit": 10000
     },
     "inputWidgets": {},
     "nuid": "cb77af01-b3eb-4c90-8b1f-ce8db053758d",
     "showTitle": false,
     "tableResultSettingsMap": {},
     "title": ""
    }
   },
   "outputs": [],
   "source": [
    "WITH Cuisines AS (\n",
    "    SELECT *\n",
    "    FROM (\n",
    "    SELECT EXPLODE(SPLIT(Cuisine, ',')) AS cuisine, Restaurant_ID\n",
    "    FROM gold\n",
    ") AS c\n",
    ")\n",
    "SELECT cuisine, COUNT(cuisine) FROM Cuisines GROUP BY cuisine ORDER BY COUNT(cuisine) DESC LIMIT 5\n",
    "\n",
    "\n"
   ]
  },
  {
   "cell_type": "code",
   "execution_count": 0,
   "metadata": {
    "application/vnd.databricks.v1+cell": {
     "cellMetadata": {
      "byteLimit": 2048000,
      "rowLimit": 10000
     },
     "inputWidgets": {},
     "nuid": "674ae69e-604c-421d-bdae-32f125149bf9",
     "showTitle": false,
     "tableResultSettingsMap": {},
     "title": ""
    }
   },
   "outputs": [],
   "source": [
    "SELECT \n",
    "    CASE \n",
    "        WHEN LOWER(m.Veg_or_Non_veg) == 'veg' THEN 'Veg'\n",
    "        ELSE 'Non-Veg'\n",
    "    END AS Dish_Type,\n",
    "    COUNT(*) AS Dish_Count\n",
    "FROM gold\n",
    "LATERAL VIEW EXPLODE(Menu_Items) AS m\n",
    "GROUP BY \n",
    "    CASE \n",
    "        WHEN\n",
    "        LOWER(m.Veg_or_Non_veg) == 'veg' THEN 'Veg'\n",
    "        ELSE 'Non-Veg'\n",
    "    END;\n"
   ]
  },
  {
   "cell_type": "code",
   "execution_count": 0,
   "metadata": {
    "application/vnd.databricks.v1+cell": {
     "cellMetadata": {
      "byteLimit": 2048000,
      "rowLimit": 10000
     },
     "inputWidgets": {},
     "nuid": "b4a9752a-785d-47a4-886d-12afb07a189e",
     "showTitle": false,
     "tableResultSettingsMap": {},
     "title": ""
    }
   },
   "outputs": [],
   "source": [
    "SELECT Cost, Rating FROM gold WHERE Rating>0"
   ]
  },
  {
   "cell_type": "code",
   "execution_count": 0,
   "metadata": {
    "application/vnd.databricks.v1+cell": {
     "cellMetadata": {
      "byteLimit": 2048000,
      "rowLimit": 10000
     },
     "inputWidgets": {},
     "nuid": "4bd512f3-34f4-47fa-9855-d2d9a12ab2c8",
     "showTitle": false,
     "tableResultSettingsMap": {},
     "title": ""
    }
   },
   "outputs": [],
   "source": [
    "SELECT \n",
    "    Restaurant_Name AS Franchise,\n",
    "    COUNT(*) AS Restaurant_Count\n",
    "FROM gold\n",
    "GROUP BY Restaurant_Name\n",
    "ORDER BY Restaurant_Count DESC\n",
    "LIMIT 3\n"
   ]
  },
  {
   "cell_type": "code",
   "execution_count": 0,
   "metadata": {
    "application/vnd.databricks.v1+cell": {
     "cellMetadata": {
      "byteLimit": 2048000,
      "rowLimit": 10000
     },
     "inputWidgets": {},
     "nuid": "ec5ba492-1b78-46cc-8d5b-8da8690e9020",
     "showTitle": false,
     "tableResultSettingsMap": {},
     "title": ""
    }
   },
   "outputs": [],
   "source": [
    "SELECT \n",
    "    CEIL(Rating) AS Rounded_Rating,  -- Round up the rating\n",
    "    City, \n",
    "    COUNT(Restaurant_Name) AS num_restaurants\n",
    "FROM (\n",
    "    SELECT \n",
    "        CASE \n",
    "            WHEN City LIKE '%,%' THEN TRIM(SUBSTRING(City, CHARINDEX(',', City) + 1, LEN(City)))  -- Get second part after comma\n",
    "            ELSE City  -- If no comma, return the original city name\n",
    "        END AS City, \n",
    "        Restaurant_Name,\n",
    "        Rating\n",
    "    FROM gold\n",
    ") AS CityRatingData\n",
    "WHERE Rating > 0  -- Filter for positive ratings\n",
    "GROUP BY City, CEIL(Rating)  -- Group by city and rounded rating\n",
    "ORDER BY num_restaurants DESC\n",
    "LIMIT 10;\n"
   ]
  },
  {
   "cell_type": "code",
   "execution_count": 0,
   "metadata": {
    "application/vnd.databricks.v1+cell": {
     "cellMetadata": {
      "byteLimit": 2048000,
      "rowLimit": 10000
     },
     "inputWidgets": {},
     "nuid": "4317748e-f3f4-4921-81a5-cee972ea45d7",
     "showTitle": false,
     "tableResultSettingsMap": {},
     "title": ""
    }
   },
   "outputs": [],
   "source": [
    "-- Create a table to store metro cities\n",
    "CREATE OR REPLACE TABLE metro_cities (\n",
    "    city STRING\n",
    ");\n",
    "\n",
    "-- Insert hardcoded values for metro cities in India\n",
    "INSERT INTO metro_cities (city)\n",
    "VALUES \n",
    "    ('Mumbai'),\n",
    "    ('Delhi'),\n",
    "    ('Bangalore'),\n",
    "    ('Chennai'),\n",
    "    ('Kolkata'),\n",
    "    ('Hyderabad'),\n",
    "    ('Pune'),\n",
    "    ('Ahmedabad');\n"
   ]
  },
  {
   "cell_type": "code",
   "execution_count": 0,
   "metadata": {
    "application/vnd.databricks.v1+cell": {
     "cellMetadata": {
      "byteLimit": 2048000,
      "rowLimit": 10000
     },
     "inputWidgets": {},
     "nuid": "36dd697f-7e44-47aa-91dc-2b6adc4e9e31",
     "showTitle": false,
     "tableResultSettingsMap": {},
     "title": ""
    }
   },
   "outputs": [],
   "source": [
    "SELECT \n",
    "    exploded_cuisine.Cuisine,\n",
    "    CASE \n",
    "        WHEN City LIKE '%,%' THEN TRIM(SUBSTRING(City, CHARINDEX(',', City) + 1, LEN(City)))\n",
    "        ELSE City\n",
    "    END AS main_city,\n",
    "    COUNT(*) AS restaurant_count\n",
    "FROM gold\n",
    "LATERAL VIEW EXPLODE(SPLIT(Cuisine, ',')) exploded_cuisine AS Cuisine\n",
    "GROUP BY \n",
    "    main_city, \n",
    "    exploded_cuisine.Cuisine\n",
    "HAVING LOWER(main_city) IN (SELECT LOWER(city) FROM metro_cities) AND lower(Cuisine) IN (\"north indian\",\n",
    "    \"south indian\",\n",
    "    \"chinese\",\n",
    "    \"mughlai\",\n",
    "    \"biryani\",\n",
    "    \"continental\",\n",
    "    \"italian\",\n",
    "    \"street food\",\n",
    "    \"punjabi\",\n",
    "    \"desserts\");\n"
   ]
  },
  {
   "cell_type": "code",
   "execution_count": 0,
   "metadata": {
    "application/vnd.databricks.v1+cell": {
     "cellMetadata": {
      "byteLimit": 2048000,
      "rowLimit": 10000
     },
     "inputWidgets": {},
     "nuid": "b8840bcc-d506-4c74-8793-56ca0355101b",
     "showTitle": false,
     "tableResultSettingsMap": {},
     "title": ""
    }
   },
   "outputs": [],
   "source": [
    "SELECT \n",
    "    avg(cost),m.veg_or_non_veg AS Food_Type\n",
    "FROM gold\n",
    "LATERAL VIEW EXPLODE(Menu_Items) AS m\n",
    "GROUP BY \n",
    "    m.Veg_or_Non_veg"
   ]
  },
  {
   "cell_type": "code",
   "execution_count": 0,
   "metadata": {
    "application/vnd.databricks.v1+cell": {
     "cellMetadata": {
      "byteLimit": 2048000,
      "rowLimit": 10000
     },
     "inputWidgets": {},
     "nuid": "b9215dea-b3f6-47bd-9ff6-8442c8e9ac9d",
     "showTitle": false,
     "tableResultSettingsMap": {},
     "title": ""
    }
   },
   "outputs": [],
   "source": [
    "SELECT count(m.item_name) AS Counts, m.item_name from gold LATERAL VIEW explode(Menu_Items) AS m GROUP BY m.item_name ORDER BY Counts DESC LIMIT 100 ;"
   ]
  },
  {
   "cell_type": "code",
   "execution_count": 0,
   "metadata": {
    "application/vnd.databricks.v1+cell": {
     "cellMetadata": {
      "byteLimit": 2048000,
      "rowLimit": 10000
     },
     "inputWidgets": {},
     "nuid": "cd5d3cda-f646-4ae3-937d-60cd9807b407",
     "showTitle": false,
     "tableResultSettingsMap": {},
     "title": ""
    }
   },
   "outputs": [],
   "source": []
  }
 ],
 "metadata": {
  "application/vnd.databricks.v1+notebook": {
   "computePreferences": null,
   "dashboards": [
    {
     "elements": [
      {
       "dashboardResultIndex": null,
       "elementNUID": "aa435874-2830-40ff-90f8-dc6f79b9cc6a",
       "elementType": "command",
       "guid": "010b21ac-6bb2-49f2-a635-d5e9a1611db2",
       "options": {
        "autoScaleImg": false,
        "scale": 0,
        "showTitle": false,
        "titleAlign": "center"
       },
       "position": {
        "height": 3,
        "width": 4,
        "x": 11,
        "y": 3,
        "z": null
       },
       "resultIndex": null
      },
      {
       "dashboardResultIndex": null,
       "elementNUID": "979ced9c-afd9-40a5-a458-90ca0f706411",
       "elementType": "command",
       "guid": "0159d1d2-a3e9-45f3-a060-16c562e60856",
       "options": null,
       "position": {
        "height": 3,
        "width": 4,
        "x": 7,
        "y": 0,
        "z": null
       },
       "resultIndex": null
      },
      {
       "dashboardResultIndex": null,
       "elementNUID": "512cb7aa-fe70-46fc-8197-f8e008b6a998",
       "elementType": "command",
       "guid": "23b93fba-9cc2-4391-a3fa-1795fedef14e",
       "options": {
        "autoScaleImg": false,
        "scale": 0,
        "showTitle": false,
        "title": "Cuisines",
        "titleAlign": "center"
       },
       "position": {
        "height": 3,
        "width": 4,
        "x": 7,
        "y": 3,
        "z": null
       },
       "resultIndex": null
      },
      {
       "dashboardResultIndex": null,
       "elementNUID": "3f8d6ad3-df6e-4ab7-8f31-9aac0ff4497e",
       "elementType": "command",
       "guid": "343d8e8c-e925-459b-9523-aeef1b99840f",
       "options": null,
       "position": {
        "height": 3,
        "width": 4,
        "x": 11,
        "y": 0,
        "z": null
       },
       "resultIndex": null
      },
      {
       "dashboardResultIndex": null,
       "elementNUID": "a9c176c0-cd43-412e-9b73-29e5f20c31a3",
       "elementType": "command",
       "guid": "62a12328-949d-4586-ac89-debe4a45d4ad",
       "options": null,
       "position": {
        "height": 8,
        "width": 8,
        "x": 7,
        "y": 6,
        "z": null
       },
       "resultIndex": null
      },
      {
       "dashboardResultIndex": null,
       "elementNUID": "26b00463-0c95-4d46-b5c3-4ca2350e18a9",
       "elementType": "command",
       "guid": "7fa6f03b-5c3d-4869-8bcc-e12ab404a778",
       "options": {
        "autoScaleImg": false,
        "scale": 0,
        "showTitle": true,
        "title": "High Rated Cities",
        "titleAlign": "center"
       },
       "position": {
        "height": 7,
        "width": 7,
        "x": 0,
        "y": 6,
        "z": null
       },
       "resultIndex": null
      },
      {
       "dashboardResultIndex": null,
       "elementNUID": "25445f0e-e209-403e-933e-aab0411943b6",
       "elementType": "command",
       "guid": "89f503e3-4079-4ad9-979c-1ba15fe1661f",
       "options": null,
       "position": {
        "height": 9,
        "width": 9,
        "x": 15,
        "y": 0,
        "z": null
       },
       "resultIndex": null
      },
      {
       "dashboardResultIndex": null,
       "elementNUID": "77b3ceb4-3bf4-436d-a381-fb41191f873d",
       "elementType": "command",
       "guid": "9249f63b-6cb0-4ad7-b4b6-5e3503df6a16",
       "options": null,
       "position": {
        "height": 7,
        "width": 7,
        "x": 0,
        "y": 13,
        "z": null
       },
       "resultIndex": null
      },
      {
       "dashboardResultIndex": null,
       "elementNUID": "aeabd8a9-9556-425c-9266-d95d51aaf0e6",
       "elementType": "command",
       "guid": "944b4ac1-efa2-463e-ab44-1c42dd54f997",
       "options": {
        "autoScaleImg": false,
        "scale": 0,
        "showTitle": true,
        "title": "Metro Cities",
        "titleAlign": "center"
       },
       "position": {
        "height": 12,
        "width": 9,
        "x": 15,
        "y": 9,
        "z": null
       },
       "resultIndex": null
      },
      {
       "dashboardResultIndex": null,
       "elementNUID": "76db71b3-ba40-45b4-9344-fe8abb5b867e",
       "elementType": "command",
       "guid": "c1314252-04fb-4aed-a108-fab442073614",
       "options": {
        "autoScaleImg": false,
        "scale": 0,
        "showTitle": true,
        "title": "Popular Cuisines",
        "titleAlign": "center"
       },
       "position": {
        "height": 7,
        "width": 8,
        "x": 7,
        "y": 14,
        "z": null
       },
       "resultIndex": null
      },
      {
       "dashboardResultIndex": null,
       "elementNUID": "7ecf90cc-f171-40dc-9cd5-16158c08713a",
       "elementType": "command",
       "guid": "ca14985f-a6cc-4e59-87fd-711b98320bdd",
       "options": {
        "autoScaleImg": false,
        "scale": 0,
        "showTitle": true,
        "title": "Cost V/S Rating",
        "titleAlign": "center"
       },
       "position": {
        "height": 10,
        "width": 17,
        "x": 7,
        "y": 21,
        "z": null
       },
       "resultIndex": null
      },
      {
       "dashboardResultIndex": null,
       "elementNUID": "4cee77b3-8edc-43dd-b64b-26b1baf2573c",
       "elementType": "command",
       "guid": "cd43f884-543f-4d76-b0cd-7dce6c246eaa",
       "options": null,
       "position": {
        "height": 11,
        "width": 7,
        "x": 0,
        "y": 20,
        "z": null
       },
       "resultIndex": null
      },
      {
       "dashboardResultIndex": null,
       "elementNUID": "baf69e85-d313-4c93-bc2e-6538e44224a6",
       "elementType": "command",
       "guid": "f59acf10-a499-4635-851c-6a2c592d9207",
       "options": {
        "autoScaleImg": false,
        "scale": 0,
        "showTitle": true,
        "title": "Top Food Chains",
        "titleAlign": "center"
       },
       "position": {
        "height": 6,
        "width": 7,
        "x": 0,
        "y": 0,
        "z": null
       },
       "resultIndex": null
      }
     ],
     "globalVars": {},
     "guid": "",
     "layoutOption": {
      "grid": true,
      "stack": true
     },
     "nuid": "68934a29-a400-4628-9176-f48990d91aeb",
     "origId": 2074906109152862,
     "title": "Swiggy Visualization",
     "version": "DashboardViewV1",
     "width": 800
    }
   ],
   "environmentMetadata": {
    "base_environment": "",
    "client": "1"
   },
   "language": "sql",
   "notebookMetadata": {
    "mostRecentlyExecutedCommandWithImplicitDF": {
     "commandId": -1,
     "dataframes": [
      "_sqldf"
     ]
    },
    "pythonIndentUnit": 4
   },
   "notebookName": "SQL Requirements",
   "widgets": {}
  },
  "language_info": {
   "name": "sql"
  }
 },
 "nbformat": 4,
 "nbformat_minor": 0
}