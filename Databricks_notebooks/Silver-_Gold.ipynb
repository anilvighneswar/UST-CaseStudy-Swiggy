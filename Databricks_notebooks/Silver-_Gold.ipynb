{
 "cells": [
  {
   "cell_type": "code",
   "execution_count": 0,
   "metadata": {
    "application/vnd.databricks.v1+cell": {
     "cellMetadata": {
      "byteLimit": 2048000,
      "rowLimit": 10000
     },
     "inputWidgets": {},
     "nuid": "eea95819-d539-475e-b927-1a2a242f10fb",
     "showTitle": true,
     "tableResultSettingsMap": {},
     "title": "reading from silver layer"
    }
   },
   "outputs": [],
   "source": [
    "spark.conf.set(\"fs.azure.account.key.cs0st0rage.dfs.core.windows.net\", dbutils.secrets.get(scope = 'az_cs_scope', key= 'acc-key'))\n",
    "\n",
    "delta_table_path_final = \"abfss://silver@cs0st0rage.dfs.core.windows.net/\"\n",
    "\n",
    "df = spark.read.format(\"delta\").load(delta_table_path_final)"
   ]
  },
  {
   "cell_type": "code",
   "execution_count": 0,
   "metadata": {
    "application/vnd.databricks.v1+cell": {
     "cellMetadata": {
      "byteLimit": 2048000,
      "rowLimit": 10000
     },
     "inputWidgets": {},
     "nuid": "eb04140b-5142-41c7-9ec1-bdd920d8e6e8",
     "showTitle": true,
     "tableResultSettingsMap": {},
     "title": "filtering out historic data"
    }
   },
   "outputs": [],
   "source": [
    "from pyspark.sql.window import Window\n",
    "from pyspark.sql.functions import *\n",
    "\n",
    "# Define window partitioned by Restaurant_ID and ordered by Inserted_Time\n",
    "windowSpec = Window.partitionBy(\"Restaurant_ID\").orderBy(col(\"timestamp\").desc())\n",
    "\n",
    "# Assign row numbers to each record for each Restaurant_ID based on the Inserted_Time\n",
    "df_with_rn = df.withColumn(\"row_number\", row_number().over(windowSpec))\n",
    "\n",
    "# Filter only the latest record for each Restaurant_ID (row_number = 1)\n",
    "df_latest = df_with_rn.filter(col(\"row_number\") == 1).drop(\"row_number\")\n",
    "\n",
    "# Show the result\n",
    "# df_latest.display()\n"
   ]
  },
  {
   "cell_type": "code",
   "execution_count": 0,
   "metadata": {
    "application/vnd.databricks.v1+cell": {
     "cellMetadata": {
      "byteLimit": 2048000,
      "rowLimit": 10000
     },
     "inputWidgets": {},
     "nuid": "18eaf847-defd-401c-a22e-d18ab61ce2da",
     "showTitle": true,
     "tableResultSettingsMap": {},
     "title": "writing to gold layer"
    }
   },
   "outputs": [],
   "source": [
    "delta_table_path_final = \"abfss://gold@cs0st0rage.dfs.core.windows.net/\"\n",
    "df_latest.write.format(\"delta\").mode(\"append\").save(delta_table_path_final)"
   ]
  }
 ],
 "metadata": {
  "application/vnd.databricks.v1+notebook": {
   "computePreferences": null,
   "dashboards": [],
   "environmentMetadata": {
    "base_environment": "",
    "client": "1"
   },
   "language": "python",
   "notebookMetadata": {
    "pythonIndentUnit": 4
   },
   "notebookName": "Silver->Gold",
   "widgets": {}
  },
  "language_info": {
   "name": "python"
  }
 },
 "nbformat": 4,
 "nbformat_minor": 0
}